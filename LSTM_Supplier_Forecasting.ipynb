{
 "cells": [
  {
   "cell_type": "code",
   "execution_count": 1,
   "metadata": {},
   "outputs": [],
   "source": [
    "import math\n",
    "import numpy as np\n",
    "import pandas as pd\n",
    "import matplotlib.pyplot as plt"
   ]
  },
  {
   "cell_type": "code",
   "execution_count": 14,
   "metadata": {},
   "outputs": [],
   "source": [
    "data = pd.read_csv(\"supplier_rank_prediction_lstm.csv\", \n",
    "                      usecols = [1], \n",
    "                      engine = \"python\", \n",
    "                      skipfooter = 3)"
   ]
  },
  {
   "cell_type": "code",
   "execution_count": 15,
   "metadata": {},
   "outputs": [
    {
     "data": {
      "text/html": [
       "<div>\n",
       "<style>\n",
       "    .dataframe thead tr:only-child th {\n",
       "        text-align: right;\n",
       "    }\n",
       "\n",
       "    .dataframe thead th {\n",
       "        text-align: left;\n",
       "    }\n",
       "\n",
       "    .dataframe tbody tr th {\n",
       "        vertical-align: top;\n",
       "    }\n",
       "</style>\n",
       "<table border=\"1\" class=\"dataframe\">\n",
       "  <thead>\n",
       "    <tr style=\"text-align: right;\">\n",
       "      <th></th>\n",
       "      <th>RANKING_1M_ALERTE</th>\n",
       "    </tr>\n",
       "  </thead>\n",
       "  <tbody>\n",
       "    <tr>\n",
       "      <th>0</th>\n",
       "      <td>20.2</td>\n",
       "    </tr>\n",
       "    <tr>\n",
       "      <th>1</th>\n",
       "      <td>20.2</td>\n",
       "    </tr>\n",
       "    <tr>\n",
       "      <th>2</th>\n",
       "      <td>20.2</td>\n",
       "    </tr>\n",
       "    <tr>\n",
       "      <th>3</th>\n",
       "      <td>20.2</td>\n",
       "    </tr>\n",
       "    <tr>\n",
       "      <th>4</th>\n",
       "      <td>20.2</td>\n",
       "    </tr>\n",
       "  </tbody>\n",
       "</table>\n",
       "</div>"
      ],
      "text/plain": [
       "   RANKING_1M_ALERTE\n",
       "0               20.2\n",
       "1               20.2\n",
       "2               20.2\n",
       "3               20.2\n",
       "4               20.2"
      ]
     },
     "execution_count": 15,
     "metadata": {},
     "output_type": "execute_result"
    }
   ],
   "source": [
    "data.head()"
   ]
  },
  {
   "cell_type": "code",
   "execution_count": 27,
   "metadata": {},
   "outputs": [
    {
     "data": {
      "image/png": "[encoded data removed]",
      "text/plain": [
       "<matplotlib.figure.Figure at 0x7f401fdb6400>"
      ]
     },
     "metadata": {},
     "output_type": "display_data"
    }
   ],
   "source": [
    "plt.figure(figsize = (15, 5))\n",
    "plt.plot(data, label = \"Supplier Rank\")\n",
    "plt.xlabel(\"Days\")\n",
    "plt.ylabel(\"Rank based on non compliance raised\")\n",
    "plt.title(\"Rank of Supplier KOSTAL ELECTRICA SA 00026601-00 from 03-01-2018 - 05-02-2019 \")\n",
    "plt.legend()\n",
    "plt.show()\n"
   ]
  },
  {
   "cell_type": "code",
   "execution_count": 17,
   "metadata": {},
   "outputs": [],
   "source": [
    "# Let's load the required libs.\n",
    "# We'll be using the Tensorflow backend (default).\n",
    "from keras.models import Sequential\n",
    "from keras.layers.recurrent import LSTM\n",
    "from keras.layers.core import Dense, Activation, Dropout\n",
    "from sklearn.preprocessing import MinMaxScaler\n",
    "from sklearn.metrics import mean_squared_error\n",
    "from sklearn.utils import shuffle"
   ]
  },
  {
   "cell_type": "code",
   "execution_count": 18,
   "metadata": {},
   "outputs": [
    {
     "data": {
      "text/plain": [
       "array([[0.04563941],\n",
       "       [0.04563941],\n",
       "       [0.04563941],\n",
       "       [0.04563941],\n",
       "       [0.04563941]], dtype=float32)"
      ]
     },
     "execution_count": 18,
     "metadata": {},
     "output_type": "execute_result"
    }
   ],
   "source": [
    "# Get the raw data values from the pandas data frame.\n",
    "data_raw = data.values.astype(\"float32\")\n",
    "\n",
    "# We apply the MinMax scaler from sklearn\n",
    "# to normalize data in the (0, 1) interval.\n",
    "scaler = MinMaxScaler(feature_range = (0, 1))\n",
    "dataset = scaler.fit_transform(data_raw)\n",
    "\n",
    "# Print a few values.\n",
    "dataset[0:5]"
   ]
  },
  {
   "cell_type": "code",
   "execution_count": 19,
   "metadata": {},
   "outputs": [
    {
     "name": "stdout",
     "output_type": "stream",
     "text": [
      "Number of entries (training set, test set): (126, 85)\n"
     ]
    }
   ],
   "source": [
    "# Using 60% of data for training, 40% for validation.\n",
    "TRAIN_SIZE = 0.60\n",
    "\n",
    "train_size = int(len(dataset) * TRAIN_SIZE)\n",
    "test_size = len(dataset) - train_size\n",
    "train, test = dataset[0:train_size, :], dataset[train_size:len(dataset), :]\n",
    "print(\"Number of entries (training set, test set): \" + str((len(train), len(test))))"
   ]
  },
  {
   "cell_type": "code",
   "execution_count": 20,
   "metadata": {},
   "outputs": [],
   "source": [
    "# FIXME: This helper function should be rewritten using numpy's shift function. See below.\n",
    "def create_dataset(dataset, window_size = 1):\n",
    "    data_X, data_Y = [], []\n",
    "    for i in range(len(dataset) - window_size - 1):\n",
    "        a = dataset[i:(i + window_size), 0]\n",
    "        data_X.append(a)\n",
    "        data_Y.append(dataset[i + window_size, 0])\n",
    "    return(np.array(data_X), np.array(data_Y))"
   ]
  },
  {
   "cell_type": "code",
   "execution_count": 21,
   "metadata": {},
   "outputs": [
    {
     "name": "stdout",
     "output_type": "stream",
     "text": [
      "Original training data shape:\n",
      "(124, 1)\n",
      "New training data shape:\n",
      "(124, 1, 1)\n"
     ]
    }
   ],
   "source": [
    "# Create test and training sets for one-step-ahead regression.\n",
    "window_size = 1\n",
    "train_X, train_Y = create_dataset(train, window_size)\n",
    "test_X, test_Y = create_dataset(test, window_size)\n",
    "print(\"Original training data shape:\")\n",
    "print(train_X.shape)\n",
    "\n",
    "# Reshape the input data into appropriate form for Keras.\n",
    "train_X = np.reshape(train_X, (train_X.shape[0], 1, train_X.shape[1]))\n",
    "test_X = np.reshape(test_X, (test_X.shape[0], 1, test_X.shape[1]))\n",
    "print(\"New training data shape:\")\n",
    "print(train_X.shape)"
   ]
  },
  {
   "cell_type": "code",
   "execution_count": 22,
   "metadata": {},
   "outputs": [
    {
     "name": "stdout",
     "output_type": "stream",
     "text": [
      "Epoch 1/100\n",
      " - 2s - loss: 2.4974e-04\n",
      "Epoch 2/100\n",
      " - 1s - loss: 2.3474e-04\n",
      "Epoch 3/100\n",
      " - 1s - loss: 2.2570e-04\n",
      "Epoch 4/100\n",
      " - 1s - loss: 2.1352e-04\n",
      "Epoch 5/100\n",
      " - 1s - loss: 1.9981e-04\n",
      "Epoch 6/100\n",
      " - 1s - loss: 1.7819e-04\n",
      "Epoch 7/100\n",
      " - 1s - loss: 1.5791e-04\n",
      "Epoch 8/100\n",
      " - 1s - loss: 1.2399e-04\n",
      "Epoch 9/100\n",
      " - 1s - loss: 1.0689e-04\n",
      "Epoch 10/100\n",
      " - 1s - loss: 8.2079e-05\n",
      "Epoch 11/100\n",
      " - 1s - loss: 7.0255e-05\n",
      "Epoch 12/100\n",
      " - 1s - loss: 5.6170e-05\n",
      "Epoch 13/100\n",
      " - 1s - loss: 5.0221e-05\n",
      "Epoch 14/100\n",
      " - 1s - loss: 4.4476e-05\n",
      "Epoch 15/100\n",
      " - 1s - loss: 4.8892e-05\n",
      "Epoch 16/100\n",
      " - 1s - loss: 4.4993e-05\n",
      "Epoch 17/100\n",
      " - 1s - loss: 4.4641e-05\n",
      "Epoch 18/100\n",
      " - 1s - loss: 4.8920e-05\n",
      "Epoch 19/100\n",
      " - 1s - loss: 4.6083e-05\n",
      "Epoch 20/100\n",
      " - 1s - loss: 4.5135e-05\n",
      "Epoch 21/100\n",
      " - 1s - loss: 4.3019e-05\n",
      "Epoch 22/100\n",
      " - 1s - loss: 4.3620e-05\n",
      "Epoch 23/100\n",
      " - 1s - loss: 4.5687e-05\n",
      "Epoch 24/100\n",
      " - 1s - loss: 4.6826e-05\n",
      "Epoch 25/100\n",
      " - 1s - loss: 4.5231e-05\n",
      "Epoch 26/100\n",
      " - 1s - loss: 4.5957e-05\n",
      "Epoch 27/100\n",
      " - 1s - loss: 4.0829e-05\n",
      "Epoch 28/100\n",
      " - 1s - loss: 4.6694e-05\n",
      "Epoch 29/100\n",
      " - 1s - loss: 4.2080e-05\n",
      "Epoch 30/100\n",
      " - 1s - loss: 4.7477e-05\n",
      "Epoch 31/100\n",
      " - 1s - loss: 4.8810e-05\n",
      "Epoch 32/100\n",
      " - 1s - loss: 4.6452e-05\n",
      "Epoch 33/100\n",
      " - 1s - loss: 5.1452e-05\n",
      "Epoch 34/100\n",
      " - 1s - loss: 4.4766e-05\n",
      "Epoch 35/100\n",
      " - 1s - loss: 4.1082e-05\n",
      "Epoch 36/100\n",
      " - 1s - loss: 4.3324e-05\n",
      "Epoch 37/100\n",
      " - 1s - loss: 5.4794e-05\n",
      "Epoch 38/100\n",
      " - 1s - loss: 4.8801e-05\n",
      "Epoch 39/100\n",
      " - 1s - loss: 4.6181e-05\n",
      "Epoch 40/100\n",
      " - 1s - loss: 4.5566e-05\n",
      "Epoch 41/100\n",
      " - 1s - loss: 4.5747e-05\n",
      "Epoch 42/100\n",
      " - 1s - loss: 4.6639e-05\n",
      "Epoch 43/100\n",
      " - 1s - loss: 4.1525e-05\n",
      "Epoch 44/100\n",
      " - 1s - loss: 4.9715e-05\n",
      "Epoch 45/100\n",
      " - 1s - loss: 5.6527e-05\n",
      "Epoch 46/100\n",
      " - 1s - loss: 5.3111e-05\n",
      "Epoch 47/100\n",
      " - 1s - loss: 4.1675e-05\n",
      "Epoch 48/100\n",
      " - 1s - loss: 4.4120e-05\n",
      "Epoch 49/100\n",
      " - 1s - loss: 4.6918e-05\n",
      "Epoch 50/100\n",
      " - 1s - loss: 4.4203e-05\n",
      "Epoch 51/100\n",
      " - 1s - loss: 4.5210e-05\n",
      "Epoch 52/100\n",
      " - 1s - loss: 4.8410e-05\n",
      "Epoch 53/100\n",
      " - 1s - loss: 4.8150e-05\n",
      "Epoch 54/100\n",
      " - 1s - loss: 4.4730e-05\n",
      "Epoch 55/100\n",
      " - 1s - loss: 4.2113e-05\n",
      "Epoch 56/100\n",
      " - 1s - loss: 4.6005e-05\n",
      "Epoch 57/100\n",
      " - 1s - loss: 4.9645e-05\n",
      "Epoch 58/100\n",
      " - 1s - loss: 4.4846e-05\n",
      "Epoch 59/100\n",
      " - 1s - loss: 4.7913e-05\n",
      "Epoch 60/100\n",
      " - 1s - loss: 4.0873e-05\n",
      "Epoch 61/100\n",
      " - 1s - loss: 4.3549e-05\n",
      "Epoch 62/100\n",
      " - 1s - loss: 4.6386e-05\n",
      "Epoch 63/100\n",
      " - 1s - loss: 4.0654e-05\n",
      "Epoch 64/100\n",
      " - 1s - loss: 4.9461e-05\n",
      "Epoch 65/100\n",
      " - 1s - loss: 4.5155e-05\n",
      "Epoch 66/100\n",
      " - 2s - loss: 4.9383e-05\n",
      "Epoch 67/100\n",
      " - 2s - loss: 4.8003e-05\n",
      "Epoch 68/100\n",
      " - 1s - loss: 4.8072e-05\n",
      "Epoch 69/100\n",
      " - 1s - loss: 4.5468e-05\n",
      "Epoch 70/100\n",
      " - 1s - loss: 4.6552e-05\n",
      "Epoch 71/100\n",
      " - 1s - loss: 4.4458e-05\n",
      "Epoch 72/100\n",
      " - 1s - loss: 4.7753e-05\n",
      "Epoch 73/100\n",
      " - 1s - loss: 4.5772e-05\n",
      "Epoch 74/100\n",
      " - 2s - loss: 4.5262e-05\n",
      "Epoch 75/100\n",
      " - 1s - loss: 4.3509e-05\n",
      "Epoch 76/100\n",
      " - 1s - loss: 4.7144e-05\n",
      "Epoch 77/100\n",
      " - 1s - loss: 4.3213e-05\n",
      "Epoch 78/100\n",
      " - 1s - loss: 4.4102e-05\n",
      "Epoch 79/100\n",
      " - 1s - loss: 4.2742e-05\n",
      "Epoch 80/100\n",
      " - 1s - loss: 4.4437e-05\n",
      "Epoch 81/100\n",
      " - 1s - loss: 4.5621e-05\n",
      "Epoch 82/100\n",
      " - 1s - loss: 4.4596e-05\n",
      "Epoch 83/100\n",
      " - 1s - loss: 4.7509e-05\n",
      "Epoch 84/100\n",
      " - 1s - loss: 4.2687e-05\n",
      "Epoch 85/100\n",
      " - 1s - loss: 4.6054e-05\n",
      "Epoch 86/100\n",
      " - 1s - loss: 4.4495e-05\n",
      "Epoch 87/100\n",
      " - 1s - loss: 4.4755e-05\n",
      "Epoch 88/100\n",
      " - 1s - loss: 4.7931e-05\n",
      "Epoch 89/100\n",
      " - 1s - loss: 4.6079e-05\n",
      "Epoch 90/100\n",
      " - 1s - loss: 4.6175e-05\n",
      "Epoch 91/100\n",
      " - 1s - loss: 4.9926e-05\n",
      "Epoch 92/100\n",
      " - 1s - loss: 4.7047e-05\n",
      "Epoch 93/100\n",
      " - 1s - loss: 4.1340e-05\n",
      "Epoch 94/100\n",
      " - 1s - loss: 4.6583e-05\n",
      "Epoch 95/100\n",
      " - 1s - loss: 4.5994e-05\n",
      "Epoch 96/100\n",
      " - 1s - loss: 4.7557e-05\n",
      "Epoch 97/100\n",
      " - 1s - loss: 4.3796e-05\n",
      "Epoch 98/100\n",
      " - 1s - loss: 4.3762e-05\n",
      "Epoch 99/100\n",
      " - 1s - loss: 4.2563e-05\n",
      "Epoch 100/100\n",
      " - 1s - loss: 4.6151e-05\n"
     ]
    }
   ],
   "source": [
    "def fit_model(train_X, train_Y, window_size = 1):\n",
    "    model = Sequential()\n",
    "    \n",
    "    model.add(LSTM(4, \n",
    "                   input_shape = (1, window_size)))\n",
    "    model.add(Dense(1))\n",
    "    model.compile(loss = \"mean_squared_error\", \n",
    "                  optimizer = \"adam\")\n",
    "    model.fit(train_X, \n",
    "              train_Y, \n",
    "              epochs = 100, \n",
    "              batch_size = 1, \n",
    "              verbose = 2)\n",
    "    \n",
    "    return(model)\n",
    "\n",
    "# Fit the first model.\n",
    "model1 = fit_model(train_X, train_Y, window_size)"
   ]
  },
  {
   "cell_type": "code",
   "execution_count": 23,
   "metadata": {},
   "outputs": [
    {
     "name": "stdout",
     "output_type": "stream",
     "text": [
      "Training data score: 2.78 RMSE\n",
      "Test data score: 34.28 RMSE\n"
     ]
    }
   ],
   "source": [
    "def predict_and_score(model, X, Y):\n",
    "    # Make predictions on the original scale of the data.\n",
    "    pred = scaler.inverse_transform(model.predict(X))\n",
    "    # Prepare Y data to also be on the original scale for interpretability.\n",
    "    orig_data = scaler.inverse_transform([Y])\n",
    "    # Calculate RMSE.\n",
    "    score = math.sqrt(mean_squared_error(orig_data[0], pred[:, 0]))\n",
    "    return(score, pred)\n",
    "\n",
    "rmse_train, train_predict = predict_and_score(model1, train_X, train_Y)\n",
    "rmse_test, test_predict = predict_and_score(model1, test_X, test_Y)\n",
    "\n",
    "print(\"Training data score: %.2f RMSE\" % rmse_train)\n",
    "print(\"Test data score: %.2f RMSE\" % rmse_test)"
   ]
  },
  {
   "cell_type": "code",
   "execution_count": 26,
   "metadata": {},
   "outputs": [
    {
     "data": {
      "image/png": "[encoded data removed]",
      "text/plain": [
       "<matplotlib.figure.Figure at 0x7f3fcc1c55f8>"
      ]
     },
     "metadata": {},
     "output_type": "display_data"
    }
   ],
   "source": [
    "# Create the plot.\n",
    "plt.figure(figsize = (15, 5))\n",
    "#plt.plot(scaler.inverse_transform(dataset), label = \"True value\")\n",
    "plt.plot(train_predict_plot, label = \"Training set prediction\")\n",
    "plt.plot(test_predict_plot, label = \"Test set prediction\")\n",
    "plt.xlabel(\"Days\")\n",
    "plt.ylabel(\"Rank based on non compliance raised\")\n",
    "plt.title(\"Comparison true vs. predicted training / test\")\n",
    "plt.legend()\n",
    "plt.show()"
   ]
  }
 ],
 "metadata": {
  "kernelspec": {
   "display_name": "Python 3",
   "language": "python",
   "name": "python3"
  },
  "language_info": {
   "codemirror_mode": {
    "name": "ipython",
    "version": 3
   },
   "file_extension": ".py",
   "mimetype": "text/x-python",
   "name": "python",
   "nbconvert_exporter": "python",
   "pygments_lexer": "ipython3",
   "version": "3.6.7"
  }
 },
 "nbformat": 4,
 "nbformat_minor": 2
}
